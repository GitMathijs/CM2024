{
 "cells": [
  {
   "cell_type": "markdown",
   "metadata": {},
   "source": [
    "X=[1, 3, 2, 4, 6, 2, 4, 2]"
   ]
  },
  {
   "cell_type": "markdown",
   "metadata": {},
   "source": [
    "Handmatig\n",
    "\n",
    "Variantie:  \n",
    "-Bereken gemiddelde: 24 / 8 = 3  \n",
    "-Bereken voor elk getal de afstand tot gemiddelde: 2, 0, 1, 1, 3, 1, 1, 1  \n",
    "-Kwadrateer deze getallen, en tel ze bij elkaar op: 4+0+1+1+9+1+1+1 = 18  \n",
    "-Deel dit door het aantal getallen: 18 / 8 = 2.25\n",
    "\n",
    "Standaarddeviatie:  \n",
    "-Neem de wortel van de variantie: $\\sqrt{2.25}$ = 1.5"
   ]
  },
  {
   "cell_type": "code",
   "execution_count": 18,
   "metadata": {},
   "outputs": [
    {
     "data": {
      "text/plain": [
       "3.0"
      ]
     },
     "execution_count": 18,
     "metadata": {},
     "output_type": "execute_result"
    }
   ],
   "source": [
    "# Eigen code\n",
    "x = [1,3,2,4,6,2,4,2]\n",
    "\n",
    "# Variantie\n",
    "gem = sum(x) / len(x)\n",
    "gem"
   ]
  },
  {
   "cell_type": "code",
   "execution_count": null,
   "metadata": {},
   "outputs": [],
   "source": [
    "# NumPy code"
   ]
  }
 ],
 "metadata": {
  "kernelspec": {
   "display_name": "cm-env",
   "language": "python",
   "name": "python3"
  },
  "language_info": {
   "codemirror_mode": {
    "name": "ipython",
    "version": 3
   },
   "file_extension": ".py",
   "mimetype": "text/x-python",
   "name": "python",
   "nbconvert_exporter": "python",
   "pygments_lexer": "ipython3",
   "version": "3.12.4"
  }
 },
 "nbformat": 4,
 "nbformat_minor": 2
}
