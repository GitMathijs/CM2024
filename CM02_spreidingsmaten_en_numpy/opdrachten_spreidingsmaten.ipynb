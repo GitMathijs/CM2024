{
 "cells": [
  {
   "cell_type": "markdown",
   "metadata": {},
   "source": [
    "## Opdracht 1\n",
    "\n",
    "X=[1, 3, 2, 4, 6, 2, 4, 2]"
   ]
  },
  {
   "cell_type": "markdown",
   "metadata": {},
   "source": [
    "### Handmatig\n",
    "\n",
    "Variantie:  \n",
    "-Bereken gemiddelde: 24 / 8 = 3  \n",
    "-Bereken voor elk getal de afstand tot gemiddelde: 2, 0, 1, 1, 3, 1, 1, 1  \n",
    "-Kwadrateer deze getallen, en tel ze bij elkaar op: 4+0+1+1+9+1+1+1 = 18  \n",
    "-Deel dit door het aantal getallen: 18 / 8 = 2.25\n",
    "\n",
    "Standaarddeviatie:  \n",
    "-Neem de wortel van de variantie: $\\sqrt{2.25}$ = 1.5"
   ]
  },
  {
   "cell_type": "code",
   "execution_count": 2,
   "metadata": {},
   "outputs": [],
   "source": [
    "# Imports\n",
    "import numpy as np\n",
    "import math"
   ]
  },
  {
   "cell_type": "code",
   "execution_count": 3,
   "metadata": {},
   "outputs": [
    {
     "name": "stdout",
     "output_type": "stream",
     "text": [
      "Variantie: 2.25\n",
      "standaarddeviatie: 1.5\n"
     ]
    }
   ],
   "source": [
    "# Eigen code\n",
    "data = [1,3,2,4,6,2,4,2]\n",
    "\n",
    "\n",
    "# Variantie\n",
    "# Bereken gemiddelde\n",
    "gem = sum(data) / len(data)\n",
    "\n",
    "# Bereken voor elk getal de afstand tot gemiddelde, kwadrateer en tel de resulterende getallen bij elkaar op, en deel het resultaat door het aantal getallen\n",
    "variantie = sum([(gem - x)**2 for x in data]) / len(data)\n",
    "\n",
    "\n",
    "# Standaarddeviatie\n",
    "# Neem de wortel van de variantie\n",
    "standaarddeviatie = math.sqrt(variantie)\n",
    "\n",
    "\n",
    "print(\"Variantie: \" + str(variantie))\n",
    "print(\"standaarddeviatie: \" + str(standaarddeviatie))"
   ]
  },
  {
   "cell_type": "code",
   "execution_count": 4,
   "metadata": {},
   "outputs": [
    {
     "name": "stdout",
     "output_type": "stream",
     "text": [
      "Variantie: 2.25\n",
      "standaarddeviatie: 1.5\n"
     ]
    }
   ],
   "source": [
    "# NumPy code\n",
    "print(\"Variantie: \" + str(np.var(data)))\n",
    "print(\"standaarddeviatie: \" + str(np.std(data)))"
   ]
  },
  {
   "cell_type": "markdown",
   "metadata": {},
   "source": [
    "## Opdracht 2\n",
    "\n",
    "X=[1, 3, 2, 4, 6, 2, 4, 2]\n",
    "\n",
    "Bepaal:\n",
    "\n",
    "1. Q1, mediaan Q2 en Q3\n",
    "2. Interkwartielafstand IQR\n",
    "3. Kleinste en grootste niet-uitschieter\n",
    "4. Zijn er zwakke en extreme uitschieters?\n",
    "5. Teken een boxplot (dit hoeft alleen handmatig!)\n",
    "\n",
    "Doe dit zowel handmatig als met Numpy in een Jupyter Notebook."
   ]
  },
  {
   "cell_type": "markdown",
   "metadata": {},
   "source": [
    "### Handmatig\n",
    "\n",
    "Q1 Q2 en Q3:  \n",
    "-Data op volgorde: [1, 2, 2, 2, 3, 4, 4, 6]  \n",
    "-Q2 is de mediaan, middelste getal -> (2+3) / 2 = 2.5  \n",
    "-Q1 is het middelste getal van de eerst helft getallen: 2  \n",
    "-Q3 is het middelste getal van de tweede helft getallen: 4\n",
    "\n",
    "Interkwartielafstand IQR:  \n",
    "-De afstand tussen Q1 en Q3, 4-2 = 2\n",
    "\n",
    "Kleinste en grootste niet-uitschieter:  \n",
    "- "
   ]
  },
  {
   "cell_type": "code",
   "execution_count": 7,
   "metadata": {},
   "outputs": [
    {
     "name": "stdout",
     "output_type": "stream",
     "text": [
      "2.0 2.5 4.0\n"
     ]
    }
   ],
   "source": [
    "# NumPy code\n",
    "data = [1,3,2,4,6,2,4,2]\n",
    "\n",
    "# Q1, Q2 (mediaan) and Q3\n",
    "q1, q2, q3 = np.percentile(data, [25, 50, 75])\n",
    "print(q1, q2, q3)\n"
   ]
  },
  {
   "cell_type": "code",
   "execution_count": null,
   "metadata": {},
   "outputs": [],
   "source": []
  }
 ],
 "metadata": {
  "kernelspec": {
   "display_name": "cm-env",
   "language": "python",
   "name": "python3"
  },
  "language_info": {
   "codemirror_mode": {
    "name": "ipython",
    "version": 3
   },
   "file_extension": ".py",
   "mimetype": "text/x-python",
   "name": "python",
   "nbconvert_exporter": "python",
   "pygments_lexer": "ipython3",
   "version": "3.12.4"
  }
 },
 "nbformat": 4,
 "nbformat_minor": 2
}
