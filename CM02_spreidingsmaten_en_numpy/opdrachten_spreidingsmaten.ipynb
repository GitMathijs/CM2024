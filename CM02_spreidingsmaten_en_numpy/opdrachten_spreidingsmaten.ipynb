{
 "cells": [
  {
   "cell_type": "markdown",
   "metadata": {},
   "source": [
    "## Opdracht 1\n",
    "\n",
    "X=[1, 3, 2, 4, 6, 2, 4, 2]"
   ]
  },
  {
   "cell_type": "markdown",
   "metadata": {},
   "source": [
    "### Handmatig\n",
    "\n",
    "Variantie:  \n",
    "-Bereken gemiddelde: 24 / 8 = 3  \n",
    "-Bereken voor elk getal de afstand tot gemiddelde: 2, 0, 1, 1, 3, 1, 1, 1  \n",
    "-Kwadrateer deze getallen, en tel ze bij elkaar op: 4+0+1+1+9+1+1+1 = 18  \n",
    "-Deel dit door het aantal getallen: 18 / 8 = 2.25\n",
    "\n",
    "Standaarddeviatie:  \n",
    "-Neem de wortel van de variantie: $\\sqrt{2.25}$ = 1.5"
   ]
  },
  {
   "cell_type": "code",
   "execution_count": 2,
   "metadata": {},
   "outputs": [],
   "source": [
    "# Imports\n",
    "import numpy as np\n",
    "import math"
   ]
  },
  {
   "cell_type": "code",
   "execution_count": 3,
   "metadata": {},
   "outputs": [
    {
     "name": "stdout",
     "output_type": "stream",
     "text": [
      "Variantie: 2.25\n",
      "standaarddeviatie: 1.5\n"
     ]
    }
   ],
   "source": [
    "# Eigen code\n",
    "data = [1,3,2,4,6,2,4,2]\n",
    "\n",
    "\n",
    "# Variantie\n",
    "# Bereken gemiddelde\n",
    "gem = sum(data) / len(data)\n",
    "\n",
    "# Bereken voor elk getal de afstand tot gemiddelde, kwadrateer en tel de resulterende getallen bij elkaar op, en deel het resultaat door het aantal getallen\n",
    "variantie = sum([(gem - x)**2 for x in data]) / len(data)\n",
    "\n",
    "\n",
    "# Standaarddeviatie\n",
    "# Neem de wortel van de variantie\n",
    "standaarddeviatie = math.sqrt(variantie)\n",
    "\n",
    "\n",
    "print(\"Variantie: \" + str(variantie))\n",
    "print(\"standaarddeviatie: \" + str(standaarddeviatie))"
   ]
  },
  {
   "cell_type": "code",
   "execution_count": 4,
   "metadata": {},
   "outputs": [
    {
     "name": "stdout",
     "output_type": "stream",
     "text": [
      "Variantie: 2.25\n",
      "standaarddeviatie: 1.5\n"
     ]
    }
   ],
   "source": [
    "# NumPy code\n",
    "print(\"Variantie: \" + str(np.var(data)))\n",
    "print(\"standaarddeviatie: \" + str(np.std(data)))"
   ]
  },
  {
   "cell_type": "markdown",
   "metadata": {},
   "source": [
    "## Opdracht 2\n",
    "\n",
    "X=[1, 3, 2, 4, 6, 2, 4, 2]\n",
    "\n",
    "Bepaal:\n",
    "\n",
    "1. Q1, mediaan Q2 en Q3\n",
    "2. Interkwartielafstand IQR\n",
    "3. Kleinste en grootste niet-uitschieter\n",
    "4. Zijn er zwakke en extreme uitschieters?\n",
    "5. Teken een boxplot (dit hoeft alleen handmatig!)\n",
    "\n",
    "Doe dit zowel handmatig als met Numpy in een Jupyter Notebook."
   ]
  },
  {
   "cell_type": "markdown",
   "metadata": {},
   "source": [
    "### Handmatig\n",
    "\n",
    "Q1 Q2 en Q3:  \n",
    "-Data op volgorde: [1, 2, 2, 2, 3, 4, 4, 6]  \n",
    "-Q2 is de mediaan, middelste getal -> (2+3) / 2 = 2.5  \n",
    "-Q1 is het middelste getal van de eerst helft getallen: 2  \n",
    "-Q3 is het middelste getal van de tweede helft getallen: 4\n",
    "\n",
    "Interkwartielafstand IQR:  \n",
    "-De afstand tussen Q1 en Q3, 4-2 = 2\n",
    "\n",
    "Kleinste en grootste niet-uitschieter:  \n",
    "- "
   ]
  },
  {
   "cell_type": "code",
   "execution_count": 5,
   "metadata": {},
   "outputs": [
    {
     "ename": "TypeError",
     "evalue": "percentile() missing 1 required positional argument: 'q'",
     "output_type": "error",
     "traceback": [
      "\u001b[1;31m---------------------------------------------------------------------------\u001b[0m",
      "\u001b[1;31mTypeError\u001b[0m                                 Traceback (most recent call last)",
      "Cell \u001b[1;32mIn[5], line 5\u001b[0m\n\u001b[0;32m      2\u001b[0m data \u001b[38;5;241m=\u001b[39m [\u001b[38;5;241m1\u001b[39m,\u001b[38;5;241m3\u001b[39m,\u001b[38;5;241m2\u001b[39m,\u001b[38;5;241m4\u001b[39m,\u001b[38;5;241m6\u001b[39m,\u001b[38;5;241m2\u001b[39m,\u001b[38;5;241m4\u001b[39m,\u001b[38;5;241m2\u001b[39m]\n\u001b[0;32m      4\u001b[0m \u001b[38;5;66;03m# Q1, Q2 (mediaan) and Q3\u001b[39;00m\n\u001b[1;32m----> 5\u001b[0m q1, q2, q3 \u001b[38;5;241m=\u001b[39m \u001b[43mnp\u001b[49m\u001b[38;5;241;43m.\u001b[39;49m\u001b[43mpercentile\u001b[49m\u001b[43m(\u001b[49m\u001b[43mdata\u001b[49m\u001b[43m)\u001b[49m\n",
      "\u001b[1;31mTypeError\u001b[0m: percentile() missing 1 required positional argument: 'q'"
     ]
    }
   ],
   "source": [
    "# NumPy code\n",
    "data = [1,3,2,4,6,2,4,2]\n",
    "\n",
    "# Q1, Q2 (mediaan) and Q3\n",
    "q1, q2, q3 = np.percentile(data) np.\n"
   ]
  },
  {
   "cell_type": "code",
   "execution_count": null,
   "metadata": {},
   "outputs": [],
   "source": []
  }
 ],
 "metadata": {
  "kernelspec": {
   "display_name": "cm-env",
   "language": "python",
   "name": "python3"
  },
  "language_info": {
   "codemirror_mode": {
    "name": "ipython",
    "version": 3
   },
   "file_extension": ".py",
   "mimetype": "text/x-python",
   "name": "python",
   "nbconvert_exporter": "python",
   "pygments_lexer": "ipython3",
   "version": "3.12.4"
  }
 },
 "nbformat": 4,
 "nbformat_minor": 2
}
