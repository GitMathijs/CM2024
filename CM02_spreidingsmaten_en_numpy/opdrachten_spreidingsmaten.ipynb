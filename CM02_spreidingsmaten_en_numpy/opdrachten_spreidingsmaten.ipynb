{
 "cells": [
  {
   "cell_type": "markdown",
   "metadata": {},
   "source": [
    "## Opdracht 1\n",
    "\n",
    "X=[1, 3, 2, 4, 6, 2, 4, 2]"
   ]
  },
  {
   "cell_type": "markdown",
   "metadata": {},
   "source": [
    "### Handmatig\n",
    "\n",
    "Variantie:  \n",
    "-Bereken gemiddelde: 24 / 8 = 3  \n",
    "-Bereken voor elk getal de afstand tot gemiddelde: 2, 0, 1, 1, 3, 1, 1, 1  \n",
    "-Kwadrateer deze getallen, en tel ze bij elkaar op: 4+0+1+1+9+1+1+1 = 18  \n",
    "-Deel dit door het aantal getallen: 18 / 8 = 2.25\n",
    "\n",
    "Standaarddeviatie:  \n",
    "-Neem de wortel van de variantie: $\\sqrt{2.25}$ = 1.5"
   ]
  },
  {
   "cell_type": "code",
   "execution_count": 28,
   "metadata": {},
   "outputs": [],
   "source": [
    "# Imports\n",
    "import numpy as np\n",
    "import math\n",
    "import matplotlib.pyplot as plt"
   ]
  },
  {
   "cell_type": "code",
   "execution_count": 29,
   "metadata": {},
   "outputs": [
    {
     "name": "stdout",
     "output_type": "stream",
     "text": [
      "Variantie: 2.25\n",
      "standaarddeviatie: 1.5\n"
     ]
    }
   ],
   "source": [
    "# Eigen code\n",
    "data = [1,3,2,4,6,2,4,2]\n",
    "\n",
    "\n",
    "# Variantie\n",
    "# Bereken gemiddelde\n",
    "gem = sum(data) / len(data)\n",
    "\n",
    "# Bereken voor elk getal de afstand tot gemiddelde, kwadrateer en tel de resulterende getallen bij elkaar op, en deel het resultaat door het aantal getallen\n",
    "variantie = sum([(gem - x)**2 for x in data]) / len(data)\n",
    "\n",
    "\n",
    "# Standaarddeviatie\n",
    "# Neem de wortel van de variantie\n",
    "standaarddeviatie = math.sqrt(variantie)\n",
    "\n",
    "\n",
    "print(\"Variantie: \" + str(variantie))\n",
    "print(\"standaarddeviatie: \" + str(standaarddeviatie))"
   ]
  },
  {
   "cell_type": "code",
   "execution_count": 30,
   "metadata": {},
   "outputs": [
    {
     "name": "stdout",
     "output_type": "stream",
     "text": [
      "Variantie: 2.25\n",
      "standaarddeviatie: 1.5\n"
     ]
    }
   ],
   "source": [
    "# NumPy code\n",
    "print(\"Variantie: \" + str(np.var(data)))\n",
    "print(\"standaarddeviatie: \" + str(np.std(data)))"
   ]
  },
  {
   "cell_type": "markdown",
   "metadata": {},
   "source": [
    "## Opdracht 2\n",
    "\n",
    "X=[1, 3, 2, 4, 6, 2, 4, 2]\n",
    "\n",
    "Bepaal:\n",
    "\n",
    "1. Q1, mediaan Q2 en Q3\n",
    "2. Interkwartielafstand IQR\n",
    "3. Kleinste en grootste niet-uitschieter\n",
    "4. Zijn er zwakke en extreme uitschieters?\n",
    "5. Teken een boxplot (dit hoeft alleen handmatig!)\n",
    "\n",
    "Doe dit zowel handmatig als met Numpy in een Jupyter Notebook."
   ]
  },
  {
   "cell_type": "markdown",
   "metadata": {},
   "source": [
    "### Handmatig\n",
    "\n",
    "**Q1 Q2 en Q3**  \n",
    "-Data op volgorde: [1, 2, 2, 2, 3, 4, 4, 6]  \n",
    "-Q2 is de mediaan, middelste getal -> (2+3) / 2 = 2.5  \n",
    "-Q1 is het middelste getal van de eerst helft getallen: 2  \n",
    "-Q3 is het middelste getal van de tweede helft getallen: 4\n",
    "\n",
    "**Interkwartielafstand IQR**  \n",
    "-De afstand tussen Q1 en Q3, 4-2 = 2\n",
    "\n",
    "**Kleinste en grootste niet-uitschieter**  \n",
    "-Kleinste: Q1 - 1.5 * IQR --> 2 - 3 = -1. We mogen niet verder gaan dan de laagste waarneming, dus grens ligt bij 1  \n",
    "-Grootste: Q3 + 1.5 * IQR --> 4 + 3 = 7. We mogen niet verder gaan dan de hoogste waarneming, dus grens ligt bij 6.\n",
    "\n",
    "**Zwakke en extreme uitschieters**  \n",
    "Er zijn geen zwakke of extreme uitschieters, omdat alle waarden van de data binnen de grenzen liggen van de niet-uitschieters (tussen 1 en 6)"
   ]
  },
  {
   "cell_type": "code",
   "execution_count": 31,
   "metadata": {},
   "outputs": [
    {
     "name": "stdout",
     "output_type": "stream",
     "text": [
      "Q1: 2.0 | Q2: 2.5 | Q3: 4.0\n",
      "Interkwartielafstand: 2.0\n",
      "Kleinste niet-uitschieter: 1\n",
      "Grootste niet-uitschieter: 6\n",
      "Zwakke uitschieters: [] \n",
      "Extreme uitschieters: [] \n",
      "Er zijn geen zwakke / extreme uitschieters\n"
     ]
    }
   ],
   "source": [
    "# NumPy code\n",
    "data = np.array([1,3,2,4,6,2,4,2])\n",
    "\n",
    "# Q1, Q2 (mediaan) and Q3\n",
    "q1, q2, q3 = np.percentile(data, [25, 50, 75])\n",
    "print(f\"Q1: {q1} | Q2: {q2} | Q3: {q3}\")\n",
    "\n",
    "# Interkwartielafstand\n",
    "iqr = q3 - q1\n",
    "print(f\"Interkwartielafstand: {iqr}\")\n",
    "\n",
    "# Kleinste en grootste niet-uitschieter\n",
    "kleinste_niet_uitschieter = max(q1 - 1.5 * iqr, min(data))\n",
    "grootste_niet_uitschieter = min(q3 + 1.5 * iqr, max(data))\n",
    "\n",
    "print(f\"Kleinste niet-uitschieter: {kleinste_niet_uitschieter}\")\n",
    "print(f\"Grootste niet-uitschieter: {grootste_niet_uitschieter}\")\n",
    "\n",
    "# Zwakke en extreme uitschieters\n",
    "grens_zwakke_laag = q1 - 1.5 * iqr\n",
    "grens_zwakke_hoog = q3 + 1.5 * iqr\n",
    "\n",
    "grens_extreme_laag = q1 - 3 * iqr\n",
    "grens_extreme_hoog = q3 + 3 * iqr\n",
    "\n",
    "zwakke_uitschieters = data[(data < grens_zwakke_laag) | (data > grens_zwakke_hoog)]\n",
    "extreme_uitschieters = data[((data < grens_extreme_laag) | (data > grens_extreme_hoog))]\n",
    "\n",
    "print(f\"Zwakke uitschieters: {zwakke_uitschieters} \")\n",
    "print(f\"Extreme uitschieters: {extreme_uitschieters} \")\n",
    "print(\"Er zijn geen zwakke / extreme uitschieters\")"
   ]
  },
  {
   "cell_type": "code",
   "execution_count": 34,
   "metadata": {},
   "outputs": [
    {
     "data": {
      "image/png": "[encoded data removed]",
      "text/plain": [
       "<Figure size 640x480 with 1 Axes>"
      ]
     },
     "metadata": {},
     "output_type": "display_data"
    }
   ],
   "source": [
    "# Boxplot met Matplotlib ter illustratie\n",
    "plt.boxplot(data, vert=False)\n",
    "plt.show()"
   ]
  }
 ],
 "metadata": {
  "kernelspec": {
   "display_name": "cm-env",
   "language": "python",
   "name": "python3"
  },
  "language_info": {
   "codemirror_mode": {
    "name": "ipython",
    "version": 3
   },
   "file_extension": ".py",
   "mimetype": "text/x-python",
   "name": "python",
   "nbconvert_exporter": "python",
   "pygments_lexer": "ipython3",
   "version": "3.12.4"
  }
 },
 "nbformat": 4,
 "nbformat_minor": 2
}
