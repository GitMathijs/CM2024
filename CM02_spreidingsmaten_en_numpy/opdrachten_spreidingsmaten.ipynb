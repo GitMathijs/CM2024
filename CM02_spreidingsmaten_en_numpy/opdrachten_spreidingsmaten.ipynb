{
 "cells": [
  {
   "cell_type": "markdown",
   "metadata": {},
   "source": [
    "X=[1, 3, 2, 4, 6, 2, 4, 2]"
   ]
  },
  {
   "cell_type": "markdown",
   "metadata": {},
   "source": [
    "Handmatig\n",
    "\n",
    "Variantie:  \n",
    "-Bereken gemiddelde: 24 / 8 = 3  \n",
    "-Bereken voor elk getal de afstand tot gemiddelde: 2, 0, 1, 1, 3, 1, 1, 1  \n",
    "-Kwadrateer deze getallen, en tel ze bij elkaar op: 4+0+1+1+9+1+1+1 = 18  \n",
    "-Deel dit door het aantal getallen: 18 / 8 = 2.25\n",
    "\n",
    "Standaarddeviatie:  \n",
    "-Neem de wortel van de variantie: $\\sqrt{2.25}$ = 1.5"
   ]
  },
  {
   "cell_type": "code",
   "execution_count": null,
   "metadata": {},
   "outputs": [],
   "source": [
    "# Imports\n",
    "import numpy as np\n",
    "import math"
   ]
  },
  {
   "cell_type": "code",
   "execution_count": null,
   "metadata": {},
   "outputs": [],
   "source": [
    "# Eigen code\n",
    "data = [1,3,2,4,6,2,4,2]\n",
    "\n",
    "\n",
    "# Variantie\n",
    "# Bereken gemiddelde\n",
    "gem = sum(data) / len(data)\n",
    "\n",
    "# Bereken voor elk getal de afstand tot gemiddelde, kwadrateer en tel de resulterende getallen bij elkaar op, en deel het resultaat door het aantal getallen\n",
    "variantie = sum([(gem - x)**2 for x in data]) / len(data)\n",
    "\n",
    "\n",
    "# Standaarddeviatie\n",
    "# Neem de wortel van de variantie\n",
    "standaarddeviatie = math.sqrt(variantie)\n",
    "\n",
    "\n",
    "print(\"Variantie: \" + str(variantie))\n",
    "print(\"standaarddeviatie: \" + str(standaarddeviatie))"
   ]
  },
  {
   "cell_type": "code",
   "execution_count": null,
   "metadata": {},
   "outputs": [],
   "source": [
    "# NumPy code\n",
    "print(\"Variantie: \" + str(np.var(data)))\n",
    "print(\"standaarddeviatie: \" + str(np.std(data)))"
   ]
  }
 ],
 "metadata": {
  "kernelspec": {
   "display_name": "cm-env",
   "language": "python",
   "name": "python3"
  },
  "language_info": {
   "codemirror_mode": {
    "name": "ipython",
    "version": 3
   },
   "file_extension": ".py",
   "mimetype": "text/x-python",
   "name": "python",
   "nbconvert_exporter": "python",
   "pygments_lexer": "ipython3",
   "version": "3.12.4"
  }
 },
 "nbformat": 4,
 "nbformat_minor": 2
}
