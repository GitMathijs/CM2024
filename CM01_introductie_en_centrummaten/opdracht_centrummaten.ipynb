{
 "cells": [
  {
   "cell_type": "markdown",
   "metadata": {},
   "source": [
    "Opdracht 1\n",
    "\n",
    "X=[1, 3, 2, 4, 6, 2, 4, 2]\n",
    "\n",
    "Bepaal handmatig:\n",
    "\n",
    "Gemiddelde  \n",
    "Modus  \n",
    "Mediaan  \n",
    "Maak daarna een Jupyter Notebook en schrijf zelf code om de berekeningen uit te voeren. Je mag natuurlijk numpy gebruiken.\n",
    "\n",
    "Handmatig:  \n",
    "-Gemiddelde  \n",
    "1+3+2+4+6+2+4+2 = 24  \n",
    "Aantal waarden: 8  \n",
    "24 / 8 = 3\n",
    "\n",
    "-Modus  \n",
    "Getal dat het meest voorkomt: 2 (komt 3x voor)\n",
    "\n",
    "-Mediaan:  \n",
    "Waarden op volgorde zetten: 1, 2, 2, 2, 3, 4, 4, 6  \n",
    "Even aantal waarden, dus gemiddelde van twee middelste getallen pakken.  \n",
    "(2+3) / 2 = 2.5"
   ]
  },
  {
   "cell_type": "code",
   "execution_count": 18,
   "metadata": {},
   "outputs": [],
   "source": [
    "# Imports\n",
    "import numpy as np\n",
    "from scipy import stats as st"
   ]
  },
  {
   "cell_type": "code",
   "execution_count": 19,
   "metadata": {},
   "outputs": [],
   "source": [
    "# Initialisatie\n",
    "x = [1, 3, 2, 4, 6, 2, 4, 2]"
   ]
  },
  {
   "cell_type": "code",
   "execution_count": 20,
   "metadata": {},
   "outputs": [
    {
     "data": {
      "text/plain": [
       "3.0"
      ]
     },
     "execution_count": 20,
     "metadata": {},
     "output_type": "execute_result"
    }
   ],
   "source": [
    "# Gemiddelde\n",
    "gemiddelde = np.average(x)\n",
    "gemiddelde"
   ]
  },
  {
   "cell_type": "code",
   "execution_count": 21,
   "metadata": {},
   "outputs": [
    {
     "data": {
      "text/plain": [
       "ModeResult(mode=2, count=3)"
      ]
     },
     "execution_count": 21,
     "metadata": {},
     "output_type": "execute_result"
    }
   ],
   "source": [
    "# Modus\n",
    "modus = st.mode(x)\n",
    "modus"
   ]
  },
  {
   "cell_type": "code",
   "execution_count": 22,
   "metadata": {},
   "outputs": [
    {
     "data": {
      "text/plain": [
       "2.5"
      ]
     },
     "execution_count": 22,
     "metadata": {},
     "output_type": "execute_result"
    }
   ],
   "source": [
    "# Mediaan\n",
    "mediaan = np.median(x)\n",
    "mediaan"
   ]
  }
 ],
 "metadata": {
  "kernelspec": {
   "display_name": "cm-env",
   "language": "python",
   "name": "python3"
  },
  "language_info": {
   "codemirror_mode": {
    "name": "ipython",
    "version": 3
   },
   "file_extension": ".py",
   "mimetype": "text/x-python",
   "name": "python",
   "nbconvert_exporter": "python",
   "pygments_lexer": "ipython3",
   "version": "3.12.4"
  }
 },
 "nbformat": 4,
 "nbformat_minor": 2
}
